{
 "cells": [
  {
   "cell_type": "code",
   "execution_count": 1,
   "id": "d7e8d0f7-9361-49bb-a1d0-af132c0241da",
   "metadata": {
    "scrolled": true
   },
   "outputs": [],
   "source": [
    "import torch\n",
    "import torch.nn as nn\n",
    "import torch.optim as optim\n",
    "\n",
    "\n",
    "import pandas as pd\n",
    "import matplotlib.pyplot as plt"
   ]
  },
  {
   "cell_type": "code",
   "execution_count": 20,
   "id": "0480d18f-3b16-4378-94d1-ae7aaa210674",
   "metadata": {
    "scrolled": true
   },
   "outputs": [
    {
     "data": {
      "text/plain": [
       "label\n",
       "sell    3042\n",
       "buy     2995\n",
       "hold     686\n",
       "Name: count, dtype: int64"
      ]
     },
     "execution_count": 20,
     "metadata": {},
     "output_type": "execute_result"
    }
   ],
   "source": [
    "df = pd.read_csv('/home/fahd/Documents/headline-trader/headline-trader/src/training/full_df.csv')\n",
    "df['label'].value_counts()\n"
   ]
  },
  {
   "cell_type": "code",
   "execution_count": 14,
   "id": "9ef8e47a-79dc-437e-af17-591997668bc7",
   "metadata": {},
   "outputs": [
    {
     "data": {
      "text/plain": [
       "(      sentiment_score       price  hour_of_day  day_of_week\n",
       " 0            0.854923  95478.3600           14            4\n",
       " 1            0.902940  95478.3600           14            4\n",
       " 2            0.740927  95478.3600           14            4\n",
       " 3            0.939790  95478.3600           14            4\n",
       " 4            0.910740  95478.3600           14            4\n",
       " ...               ...         ...          ...          ...\n",
       " 6718         0.874792      2.1942            2            5\n",
       " 6719         0.943423      2.1942            2            5\n",
       " 6720         0.908315      2.1942            2            5\n",
       " 6721         0.860967      2.1942            2            5\n",
       " 6722         0.938050      2.1942            2            5\n",
       " \n",
       " [6723 rows x 4 columns],\n",
       " 0       2\n",
       " 1       2\n",
       " 2       2\n",
       " 3       2\n",
       " 4       2\n",
       "        ..\n",
       " 6718    1\n",
       " 6719    1\n",
       " 6720    1\n",
       " 6721    1\n",
       " 6722    1\n",
       " Name: label, Length: 6723, dtype: int64)"
      ]
     },
     "execution_count": 14,
     "metadata": {},
     "output_type": "execute_result"
    }
   ],
   "source": [
    "df[\"label\"].value_counts()\n",
    "df.duplicated().sum()\n",
    "\n",
    "features, labels"
   ]
  },
  {
   "cell_type": "code",
   "execution_count": 23,
   "id": "c1547020-78aa-4fe4-ab69-a790f2f13982",
   "metadata": {},
   "outputs": [
    {
     "data": {
      "text/plain": [
       "6723"
      ]
     },
     "execution_count": 23,
     "metadata": {},
     "output_type": "execute_result"
    }
   ],
   "source": [
    "# convert to pytorch tensors\n",
    "\n",
    "x = torch.tensor(features.values, dtype=torch.float32)\n",
    "y = torch.tensor(labels.values, dtype=torch.long)\n",
    "\n",
    "x.shape[0]"
   ]
  },
  {
   "cell_type": "code",
   "execution_count": 27,
   "id": "17662163-7fb2-4c21-a698-190c0753b067",
   "metadata": {},
   "outputs": [],
   "source": [
    "# Training and testing\n",
    "\n",
    "from sklearn.model_selection import train_test_split\n",
    "\n",
    "x_train, x_test, y_train, y_test = train_test_split(x, y, test_size=0.2, shuffle=True)\n",
    "\n"
   ]
  },
  {
   "cell_type": "code",
   "execution_count": 30,
   "id": "b4e81898-255d-4da7-9153-e298470299d5",
   "metadata": {},
   "outputs": [],
   "source": [
    "# Using DataLoader for batching \n",
    "from torch.utils.data import TensorDataset, DataLoader\n",
    "\n",
    "train_dataset = TensorDataset(x_train, y_train)\n",
    "test_dataset = TensorDataset(x_test, y_test)\n",
    "\n",
    "train_loader = DataLoader(train_dataset, batch_size=32, shuffle=True)\n",
    "test_loader = DataLoader(test_dataset, batch_size=32)\n"
   ]
  },
  {
   "cell_type": "code",
   "execution_count": 31,
   "id": "4f6bfe90-64fb-4281-9246-c7a5292cf1ec",
   "metadata": {},
   "outputs": [],
   "source": [
    "import torch.nn as nn\n",
    "\n",
    "class MyModel(nn.Module):\n",
    "    def __init__(self, input_size):\n",
    "        super().__init__()\n",
    "        self.fc1 = nn.Linear(input_size, 16)\n",
    "        self.relu = nn.ReLU()\n",
    "        self.fc2 = nn.Linear(16, 3)  # 3 classes: buy/sell/hold\n",
    "\n",
    "    def forward(self, x):\n",
    "        x = self.relu(self.fc1(x))\n",
    "        return self.fc2(x)\n",
    "\n",
    "model = MyModel(input_size=x.shape[1])"
   ]
  },
  {
   "cell_type": "code",
   "execution_count": 32,
   "id": "33964464-3e86-45f2-8c99-071b1a465a53",
   "metadata": {},
   "outputs": [],
   "source": [
    "import torch.optim as optim\n",
    "\n",
    "criterion = nn.CrossEntropyLoss()\n",
    "optimizer = optim.Adam(model.parameters(), lr=0.001)"
   ]
  },
  {
   "cell_type": "code",
   "execution_count": 33,
   "id": "d72aab84-1d00-40dc-85b4-d8de6c57ae48",
   "metadata": {},
   "outputs": [
    {
     "name": "stdout",
     "output_type": "stream",
     "text": [
      "Epoch 1/20, Avg Loss: 0.0202\n",
      "Epoch 2/20, Avg Loss: 0.1800\n",
      "Epoch 3/20, Avg Loss: 0.0045\n",
      "Epoch 4/20, Avg Loss: 0.0005\n",
      "Epoch 5/20, Avg Loss: 0.2968\n",
      "Epoch 6/20, Avg Loss: 0.0034\n",
      "Epoch 7/20, Avg Loss: 0.0013\n",
      "Epoch 8/20, Avg Loss: 0.0555\n",
      "Epoch 9/20, Avg Loss: 0.1822\n",
      "Epoch 10/20, Avg Loss: 0.0080\n",
      "Epoch 11/20, Avg Loss: 0.0030\n",
      "Epoch 12/20, Avg Loss: 0.0971\n",
      "Epoch 13/20, Avg Loss: 0.0068\n",
      "Epoch 14/20, Avg Loss: 0.0794\n",
      "Epoch 15/20, Avg Loss: 0.1952\n",
      "Epoch 16/20, Avg Loss: 0.6078\n",
      "Epoch 17/20, Avg Loss: 0.0000\n",
      "Epoch 18/20, Avg Loss: 0.1700\n",
      "Epoch 19/20, Avg Loss: 0.0054\n",
      "Epoch 20/20, Avg Loss: 0.0191\n"
     ]
    }
   ],
   "source": [
    "epochs = 20\n",
    "for epoch in range(epochs):\n",
    "    model.train()\n",
    "    for batch_x, batch_y in train_loader:\n",
    "        total_loss = 0\n",
    "        outputs = model(batch_x) # calling the forward function\n",
    "        loss = criterion(outputs, batch_y)\n",
    "        total_loss += loss.item()\n",
    "\n",
    "        optimizer.zero_grad()\n",
    "        loss.backward()\n",
    "        optimizer.step()\n",
    "\n",
    "    print(f\"Epoch {epoch+1}/{epochs}, Avg Loss: {total_loss / len(train_loader):.4f}\")"
   ]
  },
  {
   "cell_type": "code",
   "execution_count": 34,
   "id": "b78fa72b-762d-4f4d-a74c-bc328259e576",
   "metadata": {},
   "outputs": [
    {
     "name": "stdout",
     "output_type": "stream",
     "text": [
      "Accuracy: 49.96%\n"
     ]
    }
   ],
   "source": [
    "correct = 0\n",
    "total = 0\n",
    "model.eval()\n",
    "with torch.no_grad():\n",
    "    for batch_X, batch_y in test_loader:\n",
    "        outputs = model(batch_X)\n",
    "        _, predicted = torch.max(outputs.data, 1)\n",
    "        total += batch_y.size(0)\n",
    "        correct += (predicted == batch_y).sum().item()\n",
    "\n",
    "print(f\"Accuracy: {100 * correct / total:.2f}%\")"
   ]
  },
  {
   "cell_type": "code",
   "execution_count": null,
   "id": "18d5f5b6-23d7-4cd5-811d-fa24afe39c90",
   "metadata": {},
   "outputs": [],
   "source": []
  }
 ],
 "metadata": {
  "kernelspec": {
   "display_name": "Python (headline-trader)",
   "language": "python",
   "name": "headline-trader"
  },
  "language_info": {
   "codemirror_mode": {
    "name": "ipython",
    "version": 3
   },
   "file_extension": ".py",
   "mimetype": "text/x-python",
   "name": "python",
   "nbconvert_exporter": "python",
   "pygments_lexer": "ipython3",
   "version": "3.12.3"
  }
 },
 "nbformat": 4,
 "nbformat_minor": 5
}

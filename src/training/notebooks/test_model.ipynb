{
 "cells": [
  {
   "cell_type": "code",
   "execution_count": 1,
   "id": "d7e8d0f7-9361-49bb-a1d0-af132c0241da",
   "metadata": {
    "scrolled": true
   },
   "outputs": [],
   "source": [
    "import torch\n",
    "import torch.nn as nn\n",
    "import torch.optim as optim\n",
    "from sklearn.model_selection import train_test_split\n",
    "from sklearn.preprocessing import StandardScaler\n",
    "from torch.utils.data import TensorDataset, DataLoader\n",
    "\n",
    "import pandas as pd\n",
    "import matplotlib.pyplot as plt"
   ]
  },
  {
   "cell_type": "code",
   "execution_count": 2,
   "id": "0480d18f-3b16-4378-94d1-ae7aaa210674",
   "metadata": {
    "scrolled": true
   },
   "outputs": [
    {
     "data": {
      "text/html": [
       "<div>\n",
       "<style scoped>\n",
       "    .dataframe tbody tr th:only-of-type {\n",
       "        vertical-align: middle;\n",
       "    }\n",
       "\n",
       "    .dataframe tbody tr th {\n",
       "        vertical-align: top;\n",
       "    }\n",
       "\n",
       "    .dataframe thead th {\n",
       "        text-align: right;\n",
       "    }\n",
       "</style>\n",
       "<table border=\"1\" class=\"dataframe\">\n",
       "  <thead>\n",
       "    <tr style=\"text-align: right;\">\n",
       "      <th></th>\n",
       "      <th>timestamp</th>\n",
       "      <th>title</th>\n",
       "      <th>price</th>\n",
       "      <th>sentiment</th>\n",
       "      <th>sentiment_score</th>\n",
       "      <th>future_price</th>\n",
       "      <th>label</th>\n",
       "      <th>symbol</th>\n",
       "      <th>hour_of_day</th>\n",
       "      <th>day_of_week</th>\n",
       "    </tr>\n",
       "  </thead>\n",
       "  <tbody>\n",
       "    <tr>\n",
       "      <th>0</th>\n",
       "      <td>2025-04-25 14:51:09.451590+00:00</td>\n",
       "      <td>Cryptocurrency campaigners call for Swiss cent...</td>\n",
       "      <td>95478.36</td>\n",
       "      <td>neutral</td>\n",
       "      <td>0.854923</td>\n",
       "      <td>94933.07</td>\n",
       "      <td>sell</td>\n",
       "      <td>BTCUSDT</td>\n",
       "      <td>14</td>\n",
       "      <td>4</td>\n",
       "    </tr>\n",
       "    <tr>\n",
       "      <th>1</th>\n",
       "      <td>2025-04-25 14:51:10.891138+00:00</td>\n",
       "      <td>The Fed Just Quietly Primed Bitcoin And Crypto...</td>\n",
       "      <td>95478.36</td>\n",
       "      <td>neutral</td>\n",
       "      <td>0.902940</td>\n",
       "      <td>94933.07</td>\n",
       "      <td>sell</td>\n",
       "      <td>BTCUSDT</td>\n",
       "      <td>14</td>\n",
       "      <td>4</td>\n",
       "    </tr>\n",
       "    <tr>\n",
       "      <th>2</th>\n",
       "      <td>2025-04-25 14:51:12.271174+00:00</td>\n",
       "      <td>Bitcoin ETFs Gain as Dollar Trust Falters - ET...</td>\n",
       "      <td>95478.36</td>\n",
       "      <td>negative</td>\n",
       "      <td>0.740927</td>\n",
       "      <td>94933.07</td>\n",
       "      <td>sell</td>\n",
       "      <td>BTCUSDT</td>\n",
       "      <td>14</td>\n",
       "      <td>4</td>\n",
       "    </tr>\n",
       "    <tr>\n",
       "      <th>3</th>\n",
       "      <td>2025-04-25 14:51:13.556977+00:00</td>\n",
       "      <td>Bitcoin – a certain kind of hedge? - DWS Asset...</td>\n",
       "      <td>95478.36</td>\n",
       "      <td>neutral</td>\n",
       "      <td>0.939790</td>\n",
       "      <td>94933.07</td>\n",
       "      <td>sell</td>\n",
       "      <td>BTCUSDT</td>\n",
       "      <td>14</td>\n",
       "      <td>4</td>\n",
       "    </tr>\n",
       "    <tr>\n",
       "      <th>4</th>\n",
       "      <td>2025-04-25 14:51:14.739492+00:00</td>\n",
       "      <td>Bitcoin gets complicated as Tether and SoftBan...</td>\n",
       "      <td>95478.36</td>\n",
       "      <td>neutral</td>\n",
       "      <td>0.910740</td>\n",
       "      <td>94933.07</td>\n",
       "      <td>sell</td>\n",
       "      <td>BTCUSDT</td>\n",
       "      <td>14</td>\n",
       "      <td>4</td>\n",
       "    </tr>\n",
       "  </tbody>\n",
       "</table>\n",
       "</div>"
      ],
      "text/plain": [
       "                          timestamp  \\\n",
       "0  2025-04-25 14:51:09.451590+00:00   \n",
       "1  2025-04-25 14:51:10.891138+00:00   \n",
       "2  2025-04-25 14:51:12.271174+00:00   \n",
       "3  2025-04-25 14:51:13.556977+00:00   \n",
       "4  2025-04-25 14:51:14.739492+00:00   \n",
       "\n",
       "                                               title     price sentiment  \\\n",
       "0  Cryptocurrency campaigners call for Swiss cent...  95478.36   neutral   \n",
       "1  The Fed Just Quietly Primed Bitcoin And Crypto...  95478.36   neutral   \n",
       "2  Bitcoin ETFs Gain as Dollar Trust Falters - ET...  95478.36  negative   \n",
       "3  Bitcoin – a certain kind of hedge? - DWS Asset...  95478.36   neutral   \n",
       "4  Bitcoin gets complicated as Tether and SoftBan...  95478.36   neutral   \n",
       "\n",
       "   sentiment_score  future_price label   symbol  hour_of_day  day_of_week  \n",
       "0         0.854923      94933.07  sell  BTCUSDT           14            4  \n",
       "1         0.902940      94933.07  sell  BTCUSDT           14            4  \n",
       "2         0.740927      94933.07  sell  BTCUSDT           14            4  \n",
       "3         0.939790      94933.07  sell  BTCUSDT           14            4  \n",
       "4         0.910740      94933.07  sell  BTCUSDT           14            4  "
      ]
     },
     "execution_count": 2,
     "metadata": {},
     "output_type": "execute_result"
    }
   ],
   "source": [
    "df = pd.read_csv('/home/fahd/Documents/headline-trader/headline-trader/src/training/full_df.csv')\n",
    "df.head()"
   ]
  },
  {
   "cell_type": "code",
   "execution_count": 3,
   "id": "26ba80e6-9ad3-45f8-99cd-a699da9620f4",
   "metadata": {},
   "outputs": [
    {
     "data": {
      "text/plain": [
       "(array([[9.54783600e+04, 8.54923427e-01, 1.40000000e+01, 4.00000000e+00],\n",
       "        [9.54783600e+04, 9.02940094e-01, 1.40000000e+01, 4.00000000e+00],\n",
       "        [9.54783600e+04, 7.40927398e-01, 1.40000000e+01, 4.00000000e+00],\n",
       "        ...,\n",
       "        [2.19420000e+00, 9.08314943e-01, 2.00000000e+00, 5.00000000e+00],\n",
       "        [2.19420000e+00, 8.60967100e-01, 2.00000000e+00, 5.00000000e+00],\n",
       "        [2.19420000e+00, 9.38049912e-01, 2.00000000e+00, 5.00000000e+00]],\n",
       "       shape=(6723, 4)),\n",
       " array([2, 2, 2, ..., 1, 1, 1], shape=(6723,)))"
      ]
     },
     "execution_count": 3,
     "metadata": {},
     "output_type": "execute_result"
    }
   ],
   "source": [
    "label_map = {'buy': 0, 'hold': 1, 'sell': 2}\n",
    "df['label'] = df['label'].map(label_map)\n",
    "\n",
    "\n",
    "# Features & labels\n",
    "features = df[['price', 'sentiment_score', 'hour_of_day', 'day_of_week']].values\n",
    "labels = df['label'].values\n",
    "\n",
    "features, labels"
   ]
  },
  {
   "cell_type": "code",
   "execution_count": 4,
   "id": "c1547020-78aa-4fe4-ab69-a790f2f13982",
   "metadata": {},
   "outputs": [
    {
     "data": {
      "text/plain": [
       "6723"
      ]
     },
     "execution_count": 4,
     "metadata": {},
     "output_type": "execute_result"
    }
   ],
   "source": [
    "# Normalize\n",
    "scaler = StandardScaler()\n",
    "features = scaler.fit_transform(features)\n",
    "\n",
    "\n",
    "# convert to pytorch tensors\n",
    "X = torch.tensor(features, dtype=torch.float32)\n",
    "y = torch.tensor(labels, dtype=torch.long)\n",
    "\n",
    "X.shape[0]"
   ]
  },
  {
   "cell_type": "code",
   "execution_count": 5,
   "id": "17662163-7fb2-4c21-a698-190c0753b067",
   "metadata": {},
   "outputs": [],
   "source": [
    "X_train, X_test, y_train, y_test = train_test_split(X, y, test_size=0.2, random_state=1)\n",
    "\n",
    "X_train, X_val, y_train, y_val = train_test_split(X_train, y_train, test_size=0.25, random_state=1)"
   ]
  },
  {
   "cell_type": "code",
   "execution_count": 6,
   "id": "b4e81898-255d-4da7-9153-e298470299d5",
   "metadata": {},
   "outputs": [],
   "source": [
    "# Using DataLoader for batching \n",
    "\n",
    "train_dataset = TensorDataset(X_train, y_train)\n",
    "val_dataset = TensorDataset(X_val, y_val)\n",
    "test_dataset = TensorDataset(X_test, y_test)\n",
    "\n",
    "train_loader = DataLoader(train_dataset, batch_size=32, shuffle=True)\n",
    "test_loader = DataLoader(test_dataset, batch_size=32)\n",
    "val_loader = DataLoader(val_dataset, batch_size=32)\n"
   ]
  },
  {
   "cell_type": "code",
   "execution_count": 7,
   "id": "4f6bfe90-64fb-4281-9246-c7a5292cf1ec",
   "metadata": {},
   "outputs": [],
   "source": [
    "import torch.nn as nn\n",
    "\n",
    "class MyModel(nn.Module):\n",
    "    def __init__(self, input_size):\n",
    "        super().__init__()\n",
    "        self.fc1 = nn.Linear(input_size, 64)\n",
    "        self.relu = nn.ReLU()\n",
    "        self.fc2 = nn.Linear(64, 32)\n",
    "        self.relu = nn.ReLU()\n",
    "        self.fc3 = nn.Linear(32, 3)  # 3 classes: buy/sell/hold\n",
    "\n",
    "    def forward(self, x):\n",
    "        x = self.relu(self.fc1(x))\n",
    "        x = self.relu(self.fc2(x))\n",
    "        return self.fc3(x)\n",
    "\n",
    "model = MyModel(input_size=X.shape[1])"
   ]
  },
  {
   "cell_type": "code",
   "execution_count": 8,
   "id": "33964464-3e86-45f2-8c99-071b1a465a53",
   "metadata": {},
   "outputs": [],
   "source": [
    "criterion = nn.CrossEntropyLoss()\n",
    "optimizer = optim.Adam(model.parameters(), lr=0.01, weight_decay=1e-4)"
   ]
  },
  {
   "cell_type": "code",
   "execution_count": 9,
   "id": "d72aab84-1d00-40dc-85b4-d8de6c57ae48",
   "metadata": {},
   "outputs": [
    {
     "name": "stdout",
     "output_type": "stream",
     "text": [
      "Epoch 0, Validation Accuracy: 0.5621, Validation Loss: 35.1993\n",
      "Epoch 1, Validation Accuracy: 0.5011, Validation Loss: 32.6317\n",
      "Epoch 2, Validation Accuracy: 0.5643, Validation Loss: 32.4291\n",
      "Epoch 3, Validation Accuracy: 0.6796, Validation Loss: 31.2085\n",
      "Epoch 4, Validation Accuracy: 0.6773, Validation Loss: 29.7628\n",
      "Epoch 5, Validation Accuracy: 0.6446, Validation Loss: 30.6737\n",
      "Epoch 6, Validation Accuracy: 0.6959, Validation Loss: 27.0074\n",
      "Epoch 7, Validation Accuracy: 0.6959, Validation Loss: 26.7558\n",
      "Epoch 8, Validation Accuracy: 0.6959, Validation Loss: 26.4136\n",
      "Epoch 9, Validation Accuracy: 0.6959, Validation Loss: 26.6276\n",
      "Epoch 10, Validation Accuracy: 0.6944, Validation Loss: 26.5760\n",
      "Epoch 11, Validation Accuracy: 0.6959, Validation Loss: 26.4612\n",
      "Epoch 12, Validation Accuracy: 0.6959, Validation Loss: 26.6560\n",
      "Epoch 13, Validation Accuracy: 0.6929, Validation Loss: 26.4727\n",
      "Epoch 14, Validation Accuracy: 0.6959, Validation Loss: 26.3343\n",
      "Epoch 15, Validation Accuracy: 0.6959, Validation Loss: 26.2991\n",
      "Epoch 16, Validation Accuracy: 0.6959, Validation Loss: 26.3835\n",
      "Epoch 17, Validation Accuracy: 0.6833, Validation Loss: 26.5476\n",
      "Epoch 18, Validation Accuracy: 0.6959, Validation Loss: 27.3735\n",
      "Epoch 19, Validation Accuracy: 0.6959, Validation Loss: 26.3560\n"
     ]
    }
   ],
   "source": [
    "epochs = 20\n",
    "for epoch in range(epochs):\n",
    "    \n",
    "    # --- Training Phase ---\n",
    "    model.train()  # important: sets model to training mode\n",
    "    for X_batch, y_batch in train_loader:\n",
    "        optimizer.zero_grad()\n",
    "        outputs = model(X_batch)\n",
    "        loss = criterion(outputs, y_batch)\n",
    "        loss.backward()\n",
    "        optimizer.step()\n",
    "\n",
    "    # --- Validation Phase ---\n",
    "    model.eval()  # important: disables dropout, batchnorm, etc.\n",
    "    val_loss = 0\n",
    "    correct = 0\n",
    "    total = 0\n",
    "\n",
    "    with torch.no_grad():  # no gradient calculations\n",
    "        for X_batch, y_batch in val_loader:\n",
    "            outputs = model(X_batch)\n",
    "            loss = criterion(outputs, y_batch)\n",
    "            val_loss += loss.item()\n",
    "\n",
    "            _, predicted = torch.max(outputs, 1)\n",
    "            total += y_batch.size(0)\n",
    "            correct += (predicted == y_batch).sum().item()\n",
    "\n",
    "    val_accuracy = correct / total\n",
    "    print(f\"Epoch {epoch}, Validation Accuracy: {val_accuracy:.4f}, Validation Loss: {val_loss:.4f}\")\n"
   ]
  },
  {
   "cell_type": "code",
   "execution_count": 10,
   "id": "b78fa72b-762d-4f4d-a74c-bc328259e576",
   "metadata": {},
   "outputs": [
    {
     "name": "stdout",
     "output_type": "stream",
     "text": [
      "Accuracy: 70.41%\n"
     ]
    }
   ],
   "source": [
    "correct = 0\n",
    "total = 0\n",
    "model.eval()\n",
    "with torch.no_grad():\n",
    "    for batch_X, batch_y in test_loader:\n",
    "        outputs = model(batch_X)\n",
    "        _, predicted = torch.max(outputs.data, 1)\n",
    "        total += batch_y.size(0)\n",
    "        correct += (predicted == batch_y).sum().item()\n",
    "\n",
    "print(f\"Accuracy: {100 * correct / total:.2f}%\")"
   ]
  },
  {
   "cell_type": "code",
   "execution_count": null,
   "id": "da869225-cb34-4748-95f5-c643d63f9d56",
   "metadata": {},
   "outputs": [],
   "source": [
    "torch.save(model.state_dict(), \"model.pth\")"
   ]
  }
 ],
 "metadata": {
  "kernelspec": {
   "display_name": "Python (headline-trader)",
   "language": "python",
   "name": "headline-trader"
  },
  "language_info": {
   "codemirror_mode": {
    "name": "ipython",
    "version": 3
   },
   "file_extension": ".py",
   "mimetype": "text/x-python",
   "name": "python",
   "nbconvert_exporter": "python",
   "pygments_lexer": "ipython3",
   "version": "3.12.3"
  }
 },
 "nbformat": 4,
 "nbformat_minor": 5
}

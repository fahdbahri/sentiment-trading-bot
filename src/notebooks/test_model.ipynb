{
 "cells": [
  {
   "cell_type": "code",
   "execution_count": 1,
   "id": "3e4504da-2143-4e38-84b4-e1342339e632",
   "metadata": {},
   "outputs": [
    {
     "name": "stdout",
     "output_type": "stream",
     "text": [
      "Requirement already satisfied: pandas in /home/fahd/Documents/headline-trader/headline-trader/venv/lib/python3.12/site-packages (2.2.3)\n",
      "Requirement already satisfied: numpy>=1.26.0 in /home/fahd/Documents/headline-trader/headline-trader/venv/lib/python3.12/site-packages (from pandas) (2.2.3)\n",
      "Requirement already satisfied: python-dateutil>=2.8.2 in /home/fahd/Documents/headline-trader/headline-trader/venv/lib/python3.12/site-packages (from pandas) (2.9.0.post0)\n",
      "Requirement already satisfied: pytz>=2020.1 in /home/fahd/Documents/headline-trader/headline-trader/venv/lib/python3.12/site-packages (from pandas) (2025.1)\n",
      "Requirement already satisfied: tzdata>=2022.7 in /home/fahd/Documents/headline-trader/headline-trader/venv/lib/python3.12/site-packages (from pandas) (2025.1)\n",
      "Requirement already satisfied: six>=1.5 in /home/fahd/Documents/headline-trader/headline-trader/venv/lib/python3.12/site-packages (from python-dateutil>=2.8.2->pandas) (1.17.0)\n"
     ]
    }
   ],
   "source": [
    "!pip install pandas"
   ]
  },
  {
   "cell_type": "code",
   "execution_count": 2,
   "id": "d7e8d0f7-9361-49bb-a1d0-af132c0241da",
   "metadata": {
    "scrolled": true
   },
   "outputs": [],
   "source": [
    "import pandas as pd"
   ]
  },
  {
   "cell_type": "code",
   "execution_count": 4,
   "id": "0480d18f-3b16-4378-94d1-ae7aaa210674",
   "metadata": {},
   "outputs": [],
   "source": [
    "df = pd.read_csv('/home/fahd/Documents/headline-trader/headline-trader/src/training/full_df.csv')"
   ]
  },
  {
   "cell_type": "code",
   "execution_count": 5,
   "id": "ec527129-423c-4353-9169-b57ea27d7da3",
   "metadata": {},
   "outputs": [
    {
     "data": {
      "text/html": [
       "<div>\n",
       "<style scoped>\n",
       "    .dataframe tbody tr th:only-of-type {\n",
       "        vertical-align: middle;\n",
       "    }\n",
       "\n",
       "    .dataframe tbody tr th {\n",
       "        vertical-align: top;\n",
       "    }\n",
       "\n",
       "    .dataframe thead th {\n",
       "        text-align: right;\n",
       "    }\n",
       "</style>\n",
       "<table border=\"1\" class=\"dataframe\">\n",
       "  <thead>\n",
       "    <tr style=\"text-align: right;\">\n",
       "      <th></th>\n",
       "      <th>timestamp</th>\n",
       "      <th>title</th>\n",
       "      <th>price</th>\n",
       "      <th>sentiment</th>\n",
       "      <th>sentiment_score</th>\n",
       "      <th>future_price</th>\n",
       "      <th>label</th>\n",
       "      <th>symbol</th>\n",
       "      <th>hour_of_day</th>\n",
       "      <th>day_of_week</th>\n",
       "    </tr>\n",
       "  </thead>\n",
       "  <tbody>\n",
       "    <tr>\n",
       "      <th>0</th>\n",
       "      <td>2025-04-13 05:10:34.328105+00:00</td>\n",
       "      <td>Bitcoin’s first Ponzi scheme would be worth $1...</td>\n",
       "      <td>84593.72</td>\n",
       "      <td>neutral</td>\n",
       "      <td>0.936433</td>\n",
       "      <td>84488.16</td>\n",
       "      <td>hold</td>\n",
       "      <td>BTCUSDT</td>\n",
       "      <td>5</td>\n",
       "      <td>6</td>\n",
       "    </tr>\n",
       "    <tr>\n",
       "      <th>1</th>\n",
       "      <td>2025-04-13 05:13:56.575712+00:00</td>\n",
       "      <td>Bitcoin’s first Ponzi scheme would be worth $1...</td>\n",
       "      <td>84488.16</td>\n",
       "      <td>neutral</td>\n",
       "      <td>0.936433</td>\n",
       "      <td>84488.16</td>\n",
       "      <td>hold</td>\n",
       "      <td>BTCUSDT</td>\n",
       "      <td>5</td>\n",
       "      <td>6</td>\n",
       "    </tr>\n",
       "    <tr>\n",
       "      <th>2</th>\n",
       "      <td>2025-04-13 05:13:58.043529+00:00</td>\n",
       "      <td>SEC Signals Massive Crypto Trading Shakeup at ...</td>\n",
       "      <td>84488.16</td>\n",
       "      <td>negative</td>\n",
       "      <td>0.516813</td>\n",
       "      <td>84488.16</td>\n",
       "      <td>hold</td>\n",
       "      <td>BTCUSDT</td>\n",
       "      <td>5</td>\n",
       "      <td>6</td>\n",
       "    </tr>\n",
       "    <tr>\n",
       "      <th>3</th>\n",
       "      <td>2025-04-13 05:13:59.634376+00:00</td>\n",
       "      <td>Bitcoin Price Volatility Far Lower Than During...</td>\n",
       "      <td>84488.16</td>\n",
       "      <td>neutral</td>\n",
       "      <td>0.877506</td>\n",
       "      <td>84488.16</td>\n",
       "      <td>hold</td>\n",
       "      <td>BTCUSDT</td>\n",
       "      <td>5</td>\n",
       "      <td>6</td>\n",
       "    </tr>\n",
       "    <tr>\n",
       "      <th>4</th>\n",
       "      <td>2025-04-13 05:14:01.814910+00:00</td>\n",
       "      <td>Lomond boarding school to accept tuition fee p...</td>\n",
       "      <td>84488.16</td>\n",
       "      <td>neutral</td>\n",
       "      <td>0.880280</td>\n",
       "      <td>84488.16</td>\n",
       "      <td>hold</td>\n",
       "      <td>BTCUSDT</td>\n",
       "      <td>5</td>\n",
       "      <td>6</td>\n",
       "    </tr>\n",
       "  </tbody>\n",
       "</table>\n",
       "</div>"
      ],
      "text/plain": [
       "                          timestamp  \\\n",
       "0  2025-04-13 05:10:34.328105+00:00   \n",
       "1  2025-04-13 05:13:56.575712+00:00   \n",
       "2  2025-04-13 05:13:58.043529+00:00   \n",
       "3  2025-04-13 05:13:59.634376+00:00   \n",
       "4  2025-04-13 05:14:01.814910+00:00   \n",
       "\n",
       "                                               title     price sentiment  \\\n",
       "0  Bitcoin’s first Ponzi scheme would be worth $1...  84593.72   neutral   \n",
       "1  Bitcoin’s first Ponzi scheme would be worth $1...  84488.16   neutral   \n",
       "2  SEC Signals Massive Crypto Trading Shakeup at ...  84488.16  negative   \n",
       "3  Bitcoin Price Volatility Far Lower Than During...  84488.16   neutral   \n",
       "4  Lomond boarding school to accept tuition fee p...  84488.16   neutral   \n",
       "\n",
       "   sentiment_score  future_price label   symbol  hour_of_day  day_of_week  \n",
       "0         0.936433      84488.16  hold  BTCUSDT            5            6  \n",
       "1         0.936433      84488.16  hold  BTCUSDT            5            6  \n",
       "2         0.516813      84488.16  hold  BTCUSDT            5            6  \n",
       "3         0.877506      84488.16  hold  BTCUSDT            5            6  \n",
       "4         0.880280      84488.16  hold  BTCUSDT            5            6  "
      ]
     },
     "execution_count": 5,
     "metadata": {},
     "output_type": "execute_result"
    }
   ],
   "source": [
    "df.head()"
   ]
  },
  {
   "cell_type": "code",
   "execution_count": 6,
   "id": "e2faa266-56af-4198-afb1-2ff497b7f8ce",
   "metadata": {},
   "outputs": [
    {
     "data": {
      "text/plain": [
       "label\n",
       "hold    3122\n",
       "Name: count, dtype: int64"
      ]
     },
     "execution_count": 6,
     "metadata": {},
     "output_type": "execute_result"
    }
   ],
   "source": [
    "df['label'].value_counts()"
   ]
  },
  {
   "cell_type": "code",
   "execution_count": 8,
   "id": "f1b031b6-d124-420a-be26-caebfaa5d9cb",
   "metadata": {},
   "outputs": [
    {
     "name": "stdout",
     "output_type": "stream",
     "text": [
      "Collecting matplotlib\n",
      "  Using cached matplotlib-3.10.1-cp312-cp312-manylinux_2_17_x86_64.manylinux2014_x86_64.whl.metadata (11 kB)\n",
      "Collecting contourpy>=1.0.1 (from matplotlib)\n",
      "  Downloading contourpy-1.3.2-cp312-cp312-manylinux_2_17_x86_64.manylinux2014_x86_64.whl.metadata (5.5 kB)\n",
      "Collecting cycler>=0.10 (from matplotlib)\n",
      "  Using cached cycler-0.12.1-py3-none-any.whl.metadata (3.8 kB)\n",
      "Collecting fonttools>=4.22.0 (from matplotlib)\n",
      "  Downloading fonttools-4.57.0-cp312-cp312-manylinux_2_5_x86_64.manylinux1_x86_64.manylinux_2_17_x86_64.manylinux2014_x86_64.whl.metadata (102 kB)\n",
      "Collecting kiwisolver>=1.3.1 (from matplotlib)\n",
      "  Using cached kiwisolver-1.4.8-cp312-cp312-manylinux_2_17_x86_64.manylinux2014_x86_64.whl.metadata (6.2 kB)\n",
      "Requirement already satisfied: numpy>=1.23 in /home/fahd/Documents/headline-trader/headline-trader/venv/lib/python3.12/site-packages (from matplotlib) (2.2.3)\n",
      "Requirement already satisfied: packaging>=20.0 in /home/fahd/Documents/headline-trader/headline-trader/venv/lib/python3.12/site-packages (from matplotlib) (24.2)\n",
      "Collecting pillow>=8 (from matplotlib)\n",
      "  Downloading pillow-11.2.1-cp312-cp312-manylinux_2_28_x86_64.whl.metadata (8.9 kB)\n",
      "Collecting pyparsing>=2.3.1 (from matplotlib)\n",
      "  Using cached pyparsing-3.2.3-py3-none-any.whl.metadata (5.0 kB)\n",
      "Requirement already satisfied: python-dateutil>=2.7 in /home/fahd/Documents/headline-trader/headline-trader/venv/lib/python3.12/site-packages (from matplotlib) (2.9.0.post0)\n",
      "Requirement already satisfied: six>=1.5 in /home/fahd/Documents/headline-trader/headline-trader/venv/lib/python3.12/site-packages (from python-dateutil>=2.7->matplotlib) (1.17.0)\n",
      "Using cached matplotlib-3.10.1-cp312-cp312-manylinux_2_17_x86_64.manylinux2014_x86_64.whl (8.6 MB)\n",
      "Downloading contourpy-1.3.2-cp312-cp312-manylinux_2_17_x86_64.manylinux2014_x86_64.whl (323 kB)\n",
      "Using cached cycler-0.12.1-py3-none-any.whl (8.3 kB)\n",
      "Downloading fonttools-4.57.0-cp312-cp312-manylinux_2_5_x86_64.manylinux1_x86_64.manylinux_2_17_x86_64.manylinux2014_x86_64.whl (4.9 MB)\n",
      "\u001b[2K   \u001b[38;2;114;156;31m━━━━━━━━━━━━━━━━━━━━━━━━━━━━━━━━━━━━━━━━\u001b[0m \u001b[32m4.9/4.9 MB\u001b[0m \u001b[31m4.0 MB/s\u001b[0m eta \u001b[36m0:00:00\u001b[0m[31m4.1 MB/s\u001b[0m eta \u001b[36m0:00:01\u001b[0m\n",
      "\u001b[?25hUsing cached kiwisolver-1.4.8-cp312-cp312-manylinux_2_17_x86_64.manylinux2014_x86_64.whl (1.5 MB)\n",
      "Downloading pillow-11.2.1-cp312-cp312-manylinux_2_28_x86_64.whl (4.6 MB)\n",
      "\u001b[2K   \u001b[38;2;114;156;31m━━━━━━━━━━━━━━━━━━━━━━━━━━━━━━━━━━━━━━━━\u001b[0m \u001b[32m4.6/4.6 MB\u001b[0m \u001b[31m4.1 MB/s\u001b[0m eta \u001b[36m0:00:00\u001b[0m MB/s\u001b[0m eta \u001b[36m0:00:01\u001b[0m:01\u001b[0m\n",
      "\u001b[?25hUsing cached pyparsing-3.2.3-py3-none-any.whl (111 kB)\n",
      "Installing collected packages: pyparsing, pillow, kiwisolver, fonttools, cycler, contourpy, matplotlib\n",
      "Successfully installed contourpy-1.3.2 cycler-0.12.1 fonttools-4.57.0 kiwisolver-1.4.8 matplotlib-3.10.1 pillow-11.2.1 pyparsing-3.2.3\n"
     ]
    },
    {
     "data": {
      "text/plain": [
       "<Axes: >"
      ]
     },
     "execution_count": 8,
     "metadata": {},
     "output_type": "execute_result"
    },
    {
     "data": {
      "image/png": "[encoded data removed]",
      "text/plain": [
       "<Figure size 640x480 with 1 Axes>"
      ]
     },
     "metadata": {},
     "output_type": "display_data"
    }
   ],
   "source": [
    "!pip install matplotlib\n",
    "import matplotlib.pyplot as plt\n",
    "df['sentiment_score'].hist()"
   ]
  },
  {
   "cell_type": "code",
   "execution_count": null,
   "id": "1cdd8566-14e6-4cec-8336-d90bae61f9f8",
   "metadata": {},
   "outputs": [],
   "source": []
  }
 ],
 "metadata": {
  "kernelspec": {
   "display_name": "Python (headline-trader)",
   "language": "python",
   "name": "headline-trader"
  },
  "language_info": {
   "codemirror_mode": {
    "name": "ipython",
    "version": 3
   },
   "file_extension": ".py",
   "mimetype": "text/x-python",
   "name": "python",
   "nbconvert_exporter": "python",
   "pygments_lexer": "ipython3",
   "version": "3.12.3"
  }
 },
 "nbformat": 4,
 "nbformat_minor": 5
}

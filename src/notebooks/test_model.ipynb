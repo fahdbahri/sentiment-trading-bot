{
 "cells": [
  {
   "cell_type": "code",
   "execution_count": null,
   "id": "3e4504da-2143-4e38-84b4-e1342339e632",
   "metadata": {},
   "outputs": [],
   "source": [
    "!pip install pandas\n",
    "!pip install matplotlib"
   ]
  },
  {
   "cell_type": "code",
   "execution_count": 1,
   "id": "d7e8d0f7-9361-49bb-a1d0-af132c0241da",
   "metadata": {
    "scrolled": true
   },
   "outputs": [],
   "source": [
    "import torch\n",
    "import torch.nn as nn\n",
    "import torch.optim as optim\n",
    "\n",
    "\n",
    "import pandas as pd\n",
    "import matplotlib.pyplot as plt"
   ]
  },
  {
   "cell_type": "code",
   "execution_count": 2,
   "id": "0480d18f-3b16-4378-94d1-ae7aaa210674",
   "metadata": {},
   "outputs": [
    {
     "data": {
      "text/html": [
       "<div>\n",
       "<style scoped>\n",
       "    .dataframe tbody tr th:only-of-type {\n",
       "        vertical-align: middle;\n",
       "    }\n",
       "\n",
       "    .dataframe tbody tr th {\n",
       "        vertical-align: top;\n",
       "    }\n",
       "\n",
       "    .dataframe thead th {\n",
       "        text-align: right;\n",
       "    }\n",
       "</style>\n",
       "<table border=\"1\" class=\"dataframe\">\n",
       "  <thead>\n",
       "    <tr style=\"text-align: right;\">\n",
       "      <th></th>\n",
       "      <th>timestamp</th>\n",
       "      <th>title</th>\n",
       "      <th>price</th>\n",
       "      <th>sentiment</th>\n",
       "      <th>sentiment_score</th>\n",
       "      <th>future_price</th>\n",
       "      <th>label</th>\n",
       "      <th>symbol</th>\n",
       "      <th>hour_of_day</th>\n",
       "      <th>day_of_week</th>\n",
       "    </tr>\n",
       "  </thead>\n",
       "  <tbody>\n",
       "    <tr>\n",
       "      <th>0</th>\n",
       "      <td>2025-04-13 05:10:34.328105+00:00</td>\n",
       "      <td>Bitcoin’s first Ponzi scheme would be worth $1...</td>\n",
       "      <td>84593.72</td>\n",
       "      <td>neutral</td>\n",
       "      <td>0.936433</td>\n",
       "      <td>84488.16</td>\n",
       "      <td>hold</td>\n",
       "      <td>BTCUSDT</td>\n",
       "      <td>5</td>\n",
       "      <td>6</td>\n",
       "    </tr>\n",
       "    <tr>\n",
       "      <th>1</th>\n",
       "      <td>2025-04-13 05:13:56.575712+00:00</td>\n",
       "      <td>Bitcoin’s first Ponzi scheme would be worth $1...</td>\n",
       "      <td>84488.16</td>\n",
       "      <td>neutral</td>\n",
       "      <td>0.936433</td>\n",
       "      <td>84488.16</td>\n",
       "      <td>hold</td>\n",
       "      <td>BTCUSDT</td>\n",
       "      <td>5</td>\n",
       "      <td>6</td>\n",
       "    </tr>\n",
       "    <tr>\n",
       "      <th>2</th>\n",
       "      <td>2025-04-13 05:13:58.043529+00:00</td>\n",
       "      <td>SEC Signals Massive Crypto Trading Shakeup at ...</td>\n",
       "      <td>84488.16</td>\n",
       "      <td>negative</td>\n",
       "      <td>0.516813</td>\n",
       "      <td>84488.16</td>\n",
       "      <td>hold</td>\n",
       "      <td>BTCUSDT</td>\n",
       "      <td>5</td>\n",
       "      <td>6</td>\n",
       "    </tr>\n",
       "    <tr>\n",
       "      <th>3</th>\n",
       "      <td>2025-04-13 05:13:59.634376+00:00</td>\n",
       "      <td>Bitcoin Price Volatility Far Lower Than During...</td>\n",
       "      <td>84488.16</td>\n",
       "      <td>neutral</td>\n",
       "      <td>0.877506</td>\n",
       "      <td>84488.16</td>\n",
       "      <td>hold</td>\n",
       "      <td>BTCUSDT</td>\n",
       "      <td>5</td>\n",
       "      <td>6</td>\n",
       "    </tr>\n",
       "    <tr>\n",
       "      <th>4</th>\n",
       "      <td>2025-04-13 05:14:01.814910+00:00</td>\n",
       "      <td>Lomond boarding school to accept tuition fee p...</td>\n",
       "      <td>84488.16</td>\n",
       "      <td>neutral</td>\n",
       "      <td>0.880280</td>\n",
       "      <td>84488.16</td>\n",
       "      <td>hold</td>\n",
       "      <td>BTCUSDT</td>\n",
       "      <td>5</td>\n",
       "      <td>6</td>\n",
       "    </tr>\n",
       "  </tbody>\n",
       "</table>\n",
       "</div>"
      ],
      "text/plain": [
       "                          timestamp  \\\n",
       "0  2025-04-13 05:10:34.328105+00:00   \n",
       "1  2025-04-13 05:13:56.575712+00:00   \n",
       "2  2025-04-13 05:13:58.043529+00:00   \n",
       "3  2025-04-13 05:13:59.634376+00:00   \n",
       "4  2025-04-13 05:14:01.814910+00:00   \n",
       "\n",
       "                                               title     price sentiment  \\\n",
       "0  Bitcoin’s first Ponzi scheme would be worth $1...  84593.72   neutral   \n",
       "1  Bitcoin’s first Ponzi scheme would be worth $1...  84488.16   neutral   \n",
       "2  SEC Signals Massive Crypto Trading Shakeup at ...  84488.16  negative   \n",
       "3  Bitcoin Price Volatility Far Lower Than During...  84488.16   neutral   \n",
       "4  Lomond boarding school to accept tuition fee p...  84488.16   neutral   \n",
       "\n",
       "   sentiment_score  future_price label   symbol  hour_of_day  day_of_week  \n",
       "0         0.936433      84488.16  hold  BTCUSDT            5            6  \n",
       "1         0.936433      84488.16  hold  BTCUSDT            5            6  \n",
       "2         0.516813      84488.16  hold  BTCUSDT            5            6  \n",
       "3         0.877506      84488.16  hold  BTCUSDT            5            6  \n",
       "4         0.880280      84488.16  hold  BTCUSDT            5            6  "
      ]
     },
     "execution_count": 2,
     "metadata": {},
     "output_type": "execute_result"
    }
   ],
   "source": [
    "df = pd.read_csv('/home/fahd/Documents/headline-trader/headline-trader/src/training/full_df.csv')\n",
    "df.head()"
   ]
  },
  {
   "cell_type": "code",
   "execution_count": 3,
   "id": "7a41ad69-9ab5-4165-b7ec-899b8986b4b9",
   "metadata": {},
   "outputs": [
    {
     "data": {
      "text/plain": [
       "0       1\n",
       "1       1\n",
       "2       1\n",
       "3       1\n",
       "4       1\n",
       "       ..\n",
       "3117    1\n",
       "3118    1\n",
       "3119    1\n",
       "3120    1\n",
       "3121    1\n",
       "Name: label, Length: 3122, dtype: int64"
      ]
     },
     "execution_count": 3,
     "metadata": {},
     "output_type": "execute_result"
    }
   ],
   "source": [
    "label_map = {'buy': 0, 'hold':1, 'sell': 2}\n",
    "df['label'] = df['label'].map(label_map)\n",
    "df['label']"
   ]
  },
  {
   "cell_type": "code",
   "execution_count": 7,
   "id": "9ef8e47a-79dc-437e-af17-591997668bc7",
   "metadata": {},
   "outputs": [
    {
     "data": {
      "text/plain": [
       "(      sentiment_score      price  hour_of_day  day_of_week\n",
       " 0            0.936433  84593.720            5            6\n",
       " 1            0.936433  84488.160            5            6\n",
       " 2            0.516813  84488.160            5            6\n",
       " 3            0.877506  84488.160            5            6\n",
       " 4            0.880280  84488.160            5            6\n",
       " ...               ...        ...          ...          ...\n",
       " 3117         0.650255      2.081           15            5\n",
       " 3118         0.615485      2.081           15            5\n",
       " 3119         0.701910      2.081           15            5\n",
       " 3120         0.934092      2.081           15            5\n",
       " 3121         0.916843      2.081           15            5\n",
       " \n",
       " [3122 rows x 4 columns],\n",
       " 0       1\n",
       " 1       1\n",
       " 2       1\n",
       " 3       1\n",
       " 4       1\n",
       "        ..\n",
       " 3117    1\n",
       " 3118    1\n",
       " 3119    1\n",
       " 3120    1\n",
       " 3121    1\n",
       " Name: label, Length: 3122, dtype: int64)"
      ]
     },
     "execution_count": 7,
     "metadata": {},
     "output_type": "execute_result"
    }
   ],
   "source": [
    "features = df[['sentiment_score', 'price', 'hour_of_day', 'day_of_week']]\n",
    "labels = df['label']\n",
    "\n",
    "features, labels"
   ]
  },
  {
   "cell_type": "code",
   "execution_count": 8,
   "id": "c1547020-78aa-4fe4-ab69-a790f2f13982",
   "metadata": {},
   "outputs": [
    {
     "data": {
      "text/plain": [
       "(tensor([[9.3643e-01, 8.4594e+04, 5.0000e+00, 6.0000e+00],\n",
       "         [9.3643e-01, 8.4488e+04, 5.0000e+00, 6.0000e+00],\n",
       "         [5.1681e-01, 8.4488e+04, 5.0000e+00, 6.0000e+00],\n",
       "         ...,\n",
       "         [7.0191e-01, 2.0810e+00, 1.5000e+01, 5.0000e+00],\n",
       "         [9.3409e-01, 2.0810e+00, 1.5000e+01, 5.0000e+00],\n",
       "         [9.1684e-01, 2.0810e+00, 1.5000e+01, 5.0000e+00]]),\n",
       " tensor([1, 1, 1,  ..., 1, 1, 1]))"
      ]
     },
     "execution_count": 8,
     "metadata": {},
     "output_type": "execute_result"
    }
   ],
   "source": [
    "# convert to pytorch tensors\n",
    "\n",
    "x = torch.tensor(features.values, dtype=torch.float32)\n",
    "y = torch.tensor(labels.values, dtype=torch.long)\n",
    "\n",
    "x, y"
   ]
  },
  {
   "cell_type": "code",
   "execution_count": 10,
   "id": "17662163-7fb2-4c21-a698-190c0753b067",
   "metadata": {},
   "outputs": [],
   "source": [
    "# Training and testing\n",
    "\n",
    "from sklearn.model_selection import train_test_split\n",
    "\n",
    "x_train, x_test, y_train, y_test = train_test_split(x, y, test_size=0.2, random_state=42)\n",
    "\n"
   ]
  },
  {
   "cell_type": "code",
   "execution_count": 11,
   "id": "b4e81898-255d-4da7-9153-e298470299d5",
   "metadata": {},
   "outputs": [],
   "source": [
    "# Using DataLoader for batching \n",
    "from torch.utils.data import TensorDataset, DataLoader\n",
    "\n",
    "train_dataset = TensorDataset(x_train, y_train)\n",
    "test_dataset = TensorDataset(x_test, y_test)\n",
    "\n",
    "train_loader = DataLoader(train_dataset, batch_size=32, shuffle=True)\n",
    "test_loader = DataLoader(test_dataset, batch_size=32)"
   ]
  },
  {
   "cell_type": "code",
   "execution_count": 13,
   "id": "4f6bfe90-64fb-4281-9246-c7a5292cf1ec",
   "metadata": {},
   "outputs": [],
   "source": [
    "import torch.nn as nn\n",
    "\n",
    "class MyModel(nn.Module):\n",
    "    def __init__(self, input_size):\n",
    "        super().__init__()\n",
    "        self.fc1 = nn.Linear(input_size, 16)\n",
    "        self.relu = nn.ReLU()\n",
    "        self.fc2 = nn.Linear(16, 3)  # 3 classes: buy/sell/hold\n",
    "\n",
    "    def forward(self, x):\n",
    "        x = self.relu(self.fc1(x))\n",
    "        return self.fc2(x)\n",
    "\n",
    "model = MyModel(input_size=x.shape[1])"
   ]
  },
  {
   "cell_type": "code",
   "execution_count": 15,
   "id": "d72aab84-1d00-40dc-85b4-d8de6c57ae48",
   "metadata": {},
   "outputs": [
    {
     "name": "stdout",
     "output_type": "stream",
     "text": [
      "Epoch 1/20, Loss: 0.0000\n",
      "Epoch 2/20, Loss: 0.0001\n",
      "Epoch 3/20, Loss: 0.0000\n",
      "Epoch 4/20, Loss: 0.0000\n",
      "Epoch 5/20, Loss: 0.0000\n",
      "Epoch 6/20, Loss: 0.0000\n",
      "Epoch 7/20, Loss: 0.0000\n",
      "Epoch 8/20, Loss: 0.0000\n",
      "Epoch 9/20, Loss: 0.0000\n",
      "Epoch 10/20, Loss: 0.0000\n",
      "Epoch 11/20, Loss: 0.0000\n",
      "Epoch 12/20, Loss: 0.0003\n",
      "Epoch 13/20, Loss: 0.0000\n",
      "Epoch 14/20, Loss: 0.0000\n",
      "Epoch 15/20, Loss: 0.0002\n",
      "Epoch 16/20, Loss: 0.0013\n",
      "Epoch 17/20, Loss: 0.0000\n",
      "Epoch 18/20, Loss: 0.0000\n",
      "Epoch 19/20, Loss: 0.0001\n",
      "Epoch 20/20, Loss: 0.0000\n"
     ]
    }
   ],
   "source": [
    "import torch.optim as optim\n",
    "\n",
    "criterion = nn.CrossEntropyLoss()\n",
    "optimizer = optim.Adam(model.parameters(), lr=0.001)\n",
    "\n",
    "epochs = 20\n",
    "for epoch in range(epochs):\n",
    "    model.train()\n",
    "    for batch_x, batch_y in train_loader:\n",
    "        outputs = model(batch_x)\n",
    "        loss = criterion(outputs, batch_y)\n",
    "\n",
    "        optimizer.zero_grad()\n",
    "        loss.backward()\n",
    "        optimizer.step()\n",
    "\n",
    "    print(f\"Epoch {epoch+1}/{epochs}, Loss: {loss.item():.4f}\")"
   ]
  },
  {
   "cell_type": "code",
   "execution_count": null,
   "id": "b78fa72b-762d-4f4d-a74c-bc328259e576",
   "metadata": {},
   "outputs": [],
   "source": []
  }
 ],
 "metadata": {
  "kernelspec": {
   "display_name": "Python (headline-trader)",
   "language": "python",
   "name": "headline-trader"
  },
  "language_info": {
   "codemirror_mode": {
    "name": "ipython",
    "version": 3
   },
   "file_extension": ".py",
   "mimetype": "text/x-python",
   "name": "python",
   "nbconvert_exporter": "python",
   "pygments_lexer": "ipython3",
   "version": "3.12.3"
  }
 },
 "nbformat": 4,
 "nbformat_minor": 5
}
